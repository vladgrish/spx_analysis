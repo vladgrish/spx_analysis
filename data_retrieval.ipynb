{
  "nbformat": 4,
  "nbformat_minor": 0,
  "metadata": {
    "colab": {
      "provenance": [],
      "authorship_tag": "ABX9TyMfZemP+/fuhQIF5lM5uvyQ",
      "include_colab_link": true
    },
    "kernelspec": {
      "name": "python3",
      "display_name": "Python 3"
    },
    "language_info": {
      "name": "python"
    }
  },
  "cells": [
    {
      "cell_type": "markdown",
      "metadata": {
        "id": "view-in-github",
        "colab_type": "text"
      },
      "source": [
        "<a href=\"https://colab.research.google.com/github/vladgrish/spx_analysis/blob/main/data_retrieval.ipynb\" target=\"_parent\"><img src=\"https://colab.research.google.com/assets/colab-badge.svg\" alt=\"Open In Colab\"/></a>"
      ]
    },
    {
      "cell_type": "code",
      "execution_count": 5,
      "metadata": {
        "id": "y-2a-TDI88pi",
        "outputId": "6c1d9410-0948-4b7d-ab5c-71acb841445c",
        "colab": {
          "base_uri": "https://localhost:8080/"
        }
      },
      "outputs": [
        {
          "output_type": "stream",
          "name": "stdout",
          "text": [
            "{\"chart\":{\"result\":[{\"meta\":{\"currency\":null,\"symbol\":\"SPX\",\"exchangeName\":\"YHD\",\"instrumentType\":\"MUTUALFUND\",\"firstTradeDate\":952007400,\"regularMarketTime\":1561759658,\"gmtoffset\":-18000,\"timezone\":\"EST\",\"exchangeTimezoneName\":\"America/New_York\",\"priceHint\":2,\"currentTradingPeriod\":{\"pre\":{\"timezone\":\"EST\",\"start\":1673600400,\"end\":1673620200,\"gmtoffset\":-18000},\"regular\":{\"timezone\":\"EST\",\"start\":1673620200,\"end\":1673643600,\"gmtoffset\":-18000},\"post\":{\"timezone\":\"EST\",\"start\":1673643600,\"end\":1673658000,\"gmtoffset\":-18000}},\"dataGranularity\":\"1d\",\"range\":\"\",\"validRanges\":[\"1mo\",\"3mo\",\"6mo\",\"ytd\",\"1y\",\"2y\",\"5y\",\"10y\",\"max\"]},\"indicators\":{\"quote\":[{}],\"adjclose\":[{}]}}],\"error\":null}}\n"
          ]
        }
      ],
      "source": [
        "import requests\n",
        "\n",
        "url = \"https://query1.finance.yahoo.com/v8/finance/chart/SPX?symbol=SPX&period1=1672861200&period2=1673829135&useYfid=true&interval=5m&includePrePost=true\"\n",
        "\n",
        "payload={}\n",
        "headers = {\n",
        "  'sec-fetch-site': 'same-site',\n",
        "  'user-agent': 'Mozilla/5.0 (X11; Linux x86_64) AppleWebKit/537.36 (KHTML, like Gecko) Chrome/109.0.0.0 Safari/537.36'\n",
        "}\n",
        "\n",
        "response = requests.request(\"GET\", url, headers=headers, data=payload)\n",
        "\n",
        "print(response.text)\n"
      ]
    },
    {
      "cell_type": "code",
      "source": [],
      "metadata": {
        "id": "AbXzo89pB7D-"
      },
      "execution_count": null,
      "outputs": []
    }
  ]
}